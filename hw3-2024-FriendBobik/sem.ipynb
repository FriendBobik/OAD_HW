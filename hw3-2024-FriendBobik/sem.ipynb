{
 "cells": [
  {
   "cell_type": "code",
   "execution_count": 3,
   "metadata": {},
   "outputs": [
    {
     "name": "stdout",
     "output_type": "stream",
     "text": [
      "        z         mu\n",
      "0   0.010  32.953887\n",
      "1   0.012  33.879003\n",
      "2   0.014  33.842141\n",
      "3   0.016  34.118567\n",
      "4   0.019  34.593446\n",
      "5   0.023  34.939027\n",
      "6   0.026  35.252096\n",
      "7   0.031  35.748502\n",
      "8   0.037  36.069788\n",
      "9   0.043  36.434570\n",
      "10  0.051  36.651111\n",
      "11  0.060  37.158014\n",
      "12  0.070  37.430173\n",
      "13  0.082  37.956616\n",
      "14  0.097  38.253254\n",
      "15  0.114  38.612869\n",
      "16  0.134  39.067851\n",
      "17  0.158  39.341402\n",
      "18  0.186  39.792144\n",
      "19  0.218  40.156535\n",
      "20  0.257  40.564956\n",
      "21  0.302  40.905288\n",
      "22  0.355  41.421417\n",
      "23  0.418  41.790923\n",
      "24  0.491  42.231461\n",
      "25  0.578  42.617047\n",
      "26  0.679  43.052731\n",
      "27  0.799  43.504151\n",
      "28  0.940  43.972573\n",
      "29  1.105  44.514088\n",
      "30  1.300  44.821867\n"
     ]
    },
    {
     "name": "stderr",
     "output_type": "stream",
     "text": [
      "<>:5: SyntaxWarning: invalid escape sequence '\\s'\n",
      "<>:5: SyntaxWarning: invalid escape sequence '\\s'\n",
      "/var/folders/mq/zd1phr397ln068kvyvnxrdhc0000gn/T/ipykernel_46525/310311522.py:5: SyntaxWarning: invalid escape sequence '\\s'\n",
      "  sep='\\s+',\n"
     ]
    }
   ],
   "source": [
    "#Как открывать файлы в Python как в дз\n",
    "import numpy as np \n",
    "import pandas as pd\n",
    "\n",
    "X=pd.read_table(\"jla_mub.txt\",\n",
    "                sep='\\s+',\n",
    "                comment='#',\n",
    "                header=None,\n",
    "                names=['z','mu'])\n",
    "\n",
    "print (X)"
   ]
  },
  {
   "cell_type": "code",
   "execution_count": null,
   "metadata": {},
   "outputs": [],
   "source": [
    "#Как считать интегралы в Python\n",
    "from scipy.integrate import quad\n",
    "\n",
    "z=lambda x: x**3\n",
    "\n",
    "print (quad(z,0,1))\n",
    "\n",
    "print (z(4))"
   ]
  },
  {
   "cell_type": "code",
   "execution_count": null,
   "metadata": {},
   "outputs": [],
   "source": [
    "import numpy as np\n",
    "import matplotlib.pyplot as plt\n",
    "def f(t,a,b,c):\n",
    "    return b*np.exp(-a*t)*t*2+c\n",
    "def grad_descend(y,f,j,x0,alpha=0.1,toe=1e-4):\n",
    "    pass\n",
    "\n",
    "a,b,c=0.75,2.0,0.5"
   ]
  }
 ],
 "metadata": {
  "kernelspec": {
   "display_name": "Python 3",
   "language": "python",
   "name": "python3"
  },
  "language_info": {
   "codemirror_mode": {
    "name": "ipython",
    "version": 3
   },
   "file_extension": ".py",
   "mimetype": "text/x-python",
   "name": "python",
   "nbconvert_exporter": "python",
   "pygments_lexer": "ipython3",
   "version": "3.12.2"
  }
 },
 "nbformat": 4,
 "nbformat_minor": 2
}
